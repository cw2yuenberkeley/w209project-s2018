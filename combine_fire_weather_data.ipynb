{
 "cells": [
  {
   "cell_type": "code",
   "execution_count": 1,
   "metadata": {
    "collapsed": true
   },
   "outputs": [],
   "source": [
    "import pandas as pd"
   ]
  },
  {
   "cell_type": "code",
   "execution_count": 66,
   "metadata": {},
   "outputs": [
    {
     "name": "stdout",
     "output_type": "stream",
     "text": [
      "['./data/weather/1997_fire_dates.csv.gz', './data/weather/1998_fire_dates.csv.gz', './data/weather/1999_fire_dates.csv.gz', './data/weather/2000_fire_dates.csv.gz', './data/weather/2001_fire_dates.csv.gz', './data/weather/2002_fire_dates.csv.gz', './data/weather/2003_fire_dates.csv.gz', './data/weather/2004_fire_dates.csv.gz', './data/weather/2005_fire_dates.csv.gz', './data/weather/2006_fire_dates.csv.gz', './data/weather/2007_fire_dates.csv.gz', './data/weather/2008_fire_dates.csv.gz', './data/weather/2009_fire_dates.csv.gz', './data/weather/2010_fire_dates.csv.gz', './data/weather/2011_fire_dates.csv.gz']\n",
      "['./data/weather/1997.csv.gz', './data/weather/1998.csv.gz', './data/weather/1999.csv.gz', './data/weather/2000.csv.gz', './data/weather/2001.csv.gz', './data/weather/2002.csv.gz', './data/weather/2003.csv.gz', './data/weather/2004.csv.gz', './data/weather/2005.csv.gz', './data/weather/2006.csv.gz', './data/weather/2007.csv.gz', './data/weather/2008.csv.gz', './data/weather/2009.csv.gz', './data/weather/2010.csv.gz', './data/weather/2011.csv.gz']\n"
     ]
    }
   ],
   "source": [
    "# Combine fire_dates data with weather_observarions\n",
    "\n",
    "yrs = range(1997, 2011+1)\n",
    "\n",
    "fire_files = ['./data/weather/'+str(yr)+'_fire_dates.csv.gz' for yr in yrs]\n",
    "weather_files = ['./data/weather/'+str(yr)+'.csv.gz' for yr in yrs]\n",
    "\n",
    "print fire_files\n",
    "print weather_files\n"
   ]
  },
  {
   "cell_type": "code",
   "execution_count": 67,
   "metadata": {},
   "outputs": [
    {
     "name": "stdout",
     "output_type": "stream",
     "text": [
      "-rw-r--r--  1 jhabib  1896053708    29K Feb 24 18:07 ./data/weather/1997_fire_dates.csv.gz\r\n",
      "-rw-r--r--  1 jhabib  1896053708    31K Feb 24 18:07 ./data/weather/1998_fire_dates.csv.gz\r\n",
      "-rw-r--r--  1 jhabib  1896053708    45K Feb 24 18:07 ./data/weather/1999_fire_dates.csv.gz\r\n",
      "-rw-r--r--  1 jhabib  1896053708    44K Feb 24 18:07 ./data/weather/2000_fire_dates.csv.gz\r\n",
      "-rw-r--r--  1 jhabib  1896053708    44K Feb 24 18:07 ./data/weather/2001_fire_dates.csv.gz\r\n",
      "-rw-r--r--  1 jhabib  1896053708    38K Feb 24 18:07 ./data/weather/2002_fire_dates.csv.gz\r\n",
      "-rw-r--r--  1 jhabib  1896053708    34K Feb 24 18:07 ./data/weather/2003_fire_dates.csv.gz\r\n",
      "-rw-r--r--  1 jhabib  1896053708    35K Feb 24 18:07 ./data/weather/2004_fire_dates.csv.gz\r\n",
      "-rw-r--r--  1 jhabib  1896053708    40K Feb 24 18:08 ./data/weather/2005_fire_dates.csv.gz\r\n",
      "-rw-r--r--  1 jhabib  1896053708    60K Feb 24 18:08 ./data/weather/2006_fire_dates.csv.gz\r\n",
      "-rw-r--r--  1 jhabib  1896053708    48K Feb 24 18:08 ./data/weather/2007_fire_dates.csv.gz\r\n",
      "-rw-r--r--  1 jhabib  1896053708    40K Feb 24 18:08 ./data/weather/2008_fire_dates.csv.gz\r\n",
      "-rw-r--r--  1 jhabib  1896053708    42K Feb 24 18:08 ./data/weather/2009_fire_dates.csv.gz\r\n",
      "-rw-r--r--  1 jhabib  1896053708    39K Feb 24 18:08 ./data/weather/2010_fire_dates.csv.gz\r\n",
      "-rw-r--r--  1 jhabib  1896053708    46K Feb 24 18:08 ./data/weather/2011_fire_dates.csv.gz\r\n",
      "-rw-r--r--  1 jhabib  1896053708    36K Feb 24 18:08 ./data/weather/2012_fire_dates.csv.gz\r\n",
      "-rw-r--r--  1 jhabib  1896053708    34K Feb 24 18:08 ./data/weather/2013_fire_dates.csv.gz\r\n",
      "-rw-r--r--  1 jhabib  1896053708    37K Feb 24 18:08 ./data/weather/2014_fire_dates.csv.gz\r\n",
      "-rw-r--r--  1 jhabib  1896053708    36K Feb 24 18:08 ./data/weather/2015_fire_dates.csv.gz\r\n"
     ]
    }
   ],
   "source": [
    "! ls -alh ./data/weather/*_fire_dates.csv.gz"
   ]
  },
  {
   "cell_type": "code",
   "execution_count": 72,
   "metadata": {},
   "outputs": [
    {
     "name": "stdout",
     "output_type": "stream",
     "text": [
      "current year: 1997\n",
      "current fire_file: ./data/weather/1997_fire_dates.csv.gz\n",
      "current weather_file: ./data/weather/1997.csv.gz\n",
      "time taken 0.0345602035522 \n",
      "\n",
      "time taken 16.8447339535 \n",
      "\n",
      "time taken 6.84030795097 \n",
      "\n",
      "current year: 1998\n",
      "current fire_file: ./data/weather/1998_fire_dates.csv.gz\n",
      "current weather_file: ./data/weather/1998.csv.gz\n",
      "time taken 0.0446629524231 \n",
      "\n",
      "time taken 17.1185290813 \n",
      "\n",
      "time taken 7.54237318039 \n",
      "\n",
      "current year: 1999\n",
      "current fire_file: ./data/weather/1999_fire_dates.csv.gz\n",
      "current weather_file: ./data/weather/1999.csv.gz\n",
      "time taken 0.0516490936279 \n",
      "\n",
      "time taken 19.6255931854 \n",
      "\n",
      "time taken 8.28895711899 \n",
      "\n",
      "current year: 2000\n",
      "current fire_file: ./data/weather/2000_fire_dates.csv.gz\n",
      "current weather_file: ./data/weather/2000.csv.gz\n",
      "time taken 0.0554008483887 \n",
      "\n",
      "time taken 19.4873900414 \n",
      "\n",
      "time taken 7.86571621895 \n",
      "\n",
      "current year: 2001\n",
      "current fire_file: ./data/weather/2001_fire_dates.csv.gz\n",
      "current weather_file: ./data/weather/2001.csv.gz\n",
      "time taken 0.0522699356079 \n",
      "\n",
      "time taken 18.5132379532 \n",
      "\n",
      "time taken 7.72530198097 \n",
      "\n",
      "current year: 2002\n",
      "current fire_file: ./data/weather/2002_fire_dates.csv.gz\n",
      "current weather_file: ./data/weather/2002.csv.gz\n",
      "time taken 0.0485589504242 \n",
      "\n",
      "time taken 20.9228899479 \n",
      "\n",
      "time taken 9.28853392601 \n",
      "\n",
      "current year: 2003\n",
      "current fire_file: ./data/weather/2003_fire_dates.csv.gz\n",
      "current weather_file: ./data/weather/2003.csv.gz\n",
      "time taken 0.0487208366394 \n",
      "\n",
      "time taken 25.1753821373 \n",
      "\n",
      "time taken 9.63386082649 \n",
      "\n",
      "current year: 2004\n",
      "current fire_file: ./data/weather/2004_fire_dates.csv.gz\n",
      "current weather_file: ./data/weather/2004.csv.gz\n",
      "time taken 0.0456750392914 \n",
      "\n",
      "time taken 23.9656980038 \n",
      "\n",
      "time taken 10.6857919693 \n",
      "\n",
      "current year: 2005\n",
      "current fire_file: ./data/weather/2005_fire_dates.csv.gz\n",
      "current weather_file: ./data/weather/2005.csv.gz\n",
      "time taken 0.0524070262909 \n",
      "\n",
      "time taken 22.2972500324 \n",
      "\n",
      "time taken 9.14892101288 \n",
      "\n",
      "current year: 2006\n",
      "current fire_file: ./data/weather/2006_fire_dates.csv.gz\n",
      "current weather_file: ./data/weather/2006.csv.gz\n",
      "time taken 0.0714988708496 \n",
      "\n",
      "time taken 26.9371891022 \n",
      "\n",
      "time taken 10.6794161797 \n",
      "\n",
      "current year: 2007\n",
      "current fire_file: ./data/weather/2007_fire_dates.csv.gz\n",
      "current weather_file: ./data/weather/2007.csv.gz\n",
      "time taken 0.0808918476105 \n",
      "\n",
      "time taken 24.8074088097 \n",
      "\n",
      "time taken 11.4111790657 \n",
      "\n",
      "current year: 2008\n",
      "current fire_file: ./data/weather/2008_fire_dates.csv.gz\n",
      "current weather_file: ./data/weather/2008.csv.gz\n",
      "time taken 0.0550241470337 \n",
      "\n",
      "time taken 30.0163550377 \n",
      "\n",
      "time taken 12.2661709785 \n",
      "\n",
      "current year: 2009\n",
      "current fire_file: ./data/weather/2009_fire_dates.csv.gz\n",
      "current weather_file: ./data/weather/2009.csv.gz\n",
      "time taken 0.0510139465332 \n",
      "\n",
      "time taken 28.119934082 \n",
      "\n",
      "time taken 14.4406449795 \n",
      "\n",
      "current year: 2010\n",
      "current fire_file: ./data/weather/2010_fire_dates.csv.gz\n",
      "current weather_file: ./data/weather/2010.csv.gz\n",
      "time taken 0.0483388900757 \n",
      "\n",
      "time taken 30.9103732109 \n",
      "\n",
      "time taken 18.7380700111 \n",
      "\n",
      "current year: 2011\n",
      "current fire_file: ./data/weather/2011_fire_dates.csv.gz\n",
      "current weather_file: ./data/weather/2011.csv.gz\n",
      "time taken 0.050106048584 \n",
      "\n",
      "time taken 29.086605072 \n",
      "\n",
      "time taken 11.72712183 \n",
      "\n"
     ]
    }
   ],
   "source": [
    "# left join fire_dates with weather_observations:\n",
    "import time\n",
    "\n",
    "fdf = None\n",
    "wdf = None\n",
    "mgdf = None\n",
    "mgdfs = None\n",
    "\n",
    "for f, w, y in zip(fire_files, weather_files, yrs):\n",
    "    print 'current year: %s' % str(y)\n",
    "    print 'current fire_file: %s' % f\n",
    "    print 'current weather_file: %s' % w\n",
    "    \n",
    "    t = time.time()\n",
    "    fdf = pd.read_csv(f, compression='gzip')\n",
    "    fdf.OBS_DATE =  pd.to_datetime(fdf.OBS_DATE, format='%Y-%m-%d').dt.strftime('%Y%m%d')\n",
    "    fdf['OBS_DATE'] = fdf['OBS_DATE'].astype(str)\n",
    "    print'time taken %s \\n' % str(time.time() - t)\n",
    "    \n",
    "    \n",
    "    t = time.time()\n",
    "    wdf = pd.read_csv(w, compression='gzip', dtype=str)\n",
    "    wdf.columns = ['STATION_ID', 'OBS_DATE', 'KEYWORD', 'VAL', '01', '02', '03', '04']\n",
    "    print'time taken %s \\n' % str(time.time() - t)\n",
    "    \n",
    "    t = time.time()\n",
    "    mgdf = pd.merge(fdf, wdf, \n",
    "                    how='left', \n",
    "                    left_on=['STATION_ID', 'OBS_DATE'], \n",
    "                    right_on=['STATION_ID', 'OBS_DATE'])\n",
    "    mgdf.head()\n",
    "    print'time taken %s \\n' % str(time.time() - t)    \n",
    "    \n",
    "    mgdfs = mgdf[~pd.isnull(mgdf.KEYWORD)]\n",
    "    mgdfs.to_csv('./data/weather/combined/' + str(y) + '_combined.csv')\n",
    "    \n",
    "    fdf = None\n",
    "    wdf = None\n",
    "    mgdf = None\n",
    "    mgdfs = None\n"
   ]
  },
  {
   "cell_type": "code",
   "execution_count": 68,
   "metadata": {
    "scrolled": true
   },
   "outputs": [],
   "source": [
    "# fdf.head()"
   ]
  },
  {
   "cell_type": "code",
   "execution_count": 69,
   "metadata": {},
   "outputs": [],
   "source": [
    "# wdf.head()"
   ]
  },
  {
   "cell_type": "code",
   "execution_count": 62,
   "metadata": {
    "scrolled": true
   },
   "outputs": [
    {
     "name": "stdout",
     "output_type": "stream",
     "text": [
      "time taken 16.3278841972 \n",
      "\n"
     ]
    }
   ],
   "source": []
  },
  {
   "cell_type": "code",
   "execution_count": 70,
   "metadata": {
    "scrolled": true
   },
   "outputs": [],
   "source": [
    "# mgdf.head()"
   ]
  },
  {
   "cell_type": "code",
   "execution_count": 64,
   "metadata": {},
   "outputs": [],
   "source": []
  },
  {
   "cell_type": "code",
   "execution_count": 65,
   "metadata": {},
   "outputs": [],
   "source": [
    "\n",
    "# wdf[(wdf['STATION_ID'] == 'USC00292100')]"
   ]
  }
 ],
 "metadata": {
  "kernelspec": {
   "display_name": "Python 2",
   "language": "python",
   "name": "python2"
  },
  "language_info": {
   "codemirror_mode": {
    "name": "ipython",
    "version": 2
   },
   "file_extension": ".py",
   "mimetype": "text/x-python",
   "name": "python",
   "nbconvert_exporter": "python",
   "pygments_lexer": "ipython2",
   "version": "2.7.13"
  }
 },
 "nbformat": 4,
 "nbformat_minor": 2
}
