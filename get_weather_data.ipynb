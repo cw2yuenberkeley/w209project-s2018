{
 "cells": [
  {
   "cell_type": "code",
   "execution_count": 21,
   "metadata": {
    "collapsed": true
   },
   "outputs": [],
   "source": [
    "# Download metadata to ./data/weather\n",
    "import os\n",
    "import urllib\n",
    "\n",
    "\n",
    "# URLs for metadata\n",
    "metadata_urls = {\n",
    "    'station_inventory': 'https://www1.ncdc.noaa.gov/pub/data/ghcn/daily/ghcnd-inventory.txt', \n",
    "    'states': 'https://www1.ncdc.noaa.gov/pub/data/ghcn/daily/ghcnd-states.txt', \n",
    "    'stations': 'https://www1.ncdc.noaa.gov/pub/data/ghcn/daily/ghcnd-stations.txt', \n",
    "    'countries': 'https://www1.ncdc.noaa.gov/pub/data/ghcn/daily/ghcnd-countries.txt'\n",
    "}\n",
    "\n",
    "# Output dir\n",
    "directory = './data/weather'\n",
    "if not os.path.exists(directory):\n",
    "    os.makedirs(directory)\n",
    "\n",
    "uo = urllib.URLopener()\n",
    "\n",
    "for k, u in metadata_urls.items():\n",
    "    uo.retrieve(u, './data/weather/'+k+'.txt')"
   ]
  },
  {
   "cell_type": "code",
   "execution_count": 1,
   "metadata": {
    "scrolled": false
   },
   "outputs": [
    {
     "name": "stdout",
     "output_type": "stream",
     "text": [
      "downloading file for: 2013...\n",
      "download complete\n",
      "filtering file...\n",
      "finished writing file for: 2013...\n",
      "\n",
      "downloading file for: 2014...\n",
      "download complete\n",
      "filtering file...\n",
      "finished writing file for: 2014...\n",
      "\n",
      "downloading file for: 2015...\n",
      "download complete\n",
      "filtering file...\n",
      "finished writing file for: 2015...\n",
      "\n"
     ]
    }
   ],
   "source": [
    "# Download daily weather data summary by year\n",
    "import requests\n",
    "import gzip\n",
    "import io\n",
    "import csv\n",
    "\n",
    "# URL for yearly data \n",
    "# Uncomment the yr_base_url and yrs to run the script\n",
    "\n",
    "# yr_base_url = 'https://www1.ncdc.noaa.gov/pub/data/ghcn/daily/by_year/'\n",
    "# yrs = range(1997, 2015+1)\n",
    "\n",
    "for yr in yrs:\n",
    "    yr_url = ''.join([yr_base_url, str(yr), '.csv.gz'])\n",
    "    \n",
    "    print 'downloading file for: %d...' % (yr)\n",
    "    resp = requests.get(yr_url, stream=True)\n",
    "    csv_gz = resp.content\n",
    "    f = io.BytesIO(csv_gz)\n",
    "    print 'download complete'\n",
    "    \n",
    "    with gzip.GzipFile(fileobj=f, mode='rb') as fh, gzip.open('./data/weather/'+str(yr)+'.csv.gz', 'wb+') as fout:\n",
    "        print 'filtering file...'\n",
    "        for line in fh:\n",
    "            if 'US' == line[:2]:\n",
    "                fout.write(line)\n",
    "        print 'finished writing file for: %d...\\n' % (yr)"
   ]
  },
  {
   "cell_type": "code",
   "execution_count": 13,
   "metadata": {},
   "outputs": [],
   "source": [
    "# Filter US Stations to a separate file\n",
    "stations_file = './data/weather/stations.txt'\n",
    "us_stations = './data/weather/us_stations.txt'\n",
    "\n",
    "with open(stations_file, 'rb') as fin, open(us_stations, 'wb+') as fout:\n",
    "    for line in fin:\n",
    "        if 'US' == line[:2]:\n",
    "            fout.write(line)\n",
    "\n",
    "# yrs = range(1997, 1997+1)\n",
    "# print yrs\n",
    "\n",
    "\n",
    "# for yr in yrs:\n",
    "#     with gzip.open('./data/weather/'+str(yr)+'.csv.gz', mode='rb') as fh:\n",
    "#         for line in fh:\n",
    "#             print line\n"
   ]
  },
  {
   "cell_type": "code",
   "execution_count": 43,
   "metadata": {},
   "outputs": [],
   "source": [
    "# Find the closest station for each fire \n",
    "import requests\n",
    "import gzip\n",
    "import io\n",
    "import csv\n",
    "import sys\n",
    "from collections import defaultdict\n",
    "\n",
    "\n",
    "wildfires = './data/wildfires_10k_sample.csv'\n",
    "us_stations = './data/weather/us_stations.txt'\n",
    "\n",
    "# load us stations latitude and longitude in a dictionary\n",
    "us_latlon = defaultdict(str)\n",
    "with open(us_stations, 'rb') as fus:\n",
    "    for line in fus:\n",
    "        station_code = line[:11].replace(' ', '')\n",
    "        lat = line[11:20].replace(' ', '')\n",
    "        lon = line[20:30].replace(' ', '')\n",
    "        us_latlon[lat+','+lon] = station_code.upper()\n",
    "\n",
    "# print us_latlon\n",
    "hs = Haversine()\n",
    "\n",
    "us_latlon_file = './data/weather/fire_weather_station.csv'\n",
    "with open(wildfires, 'rb') as fwild, open(us_latlon_file, 'wb+') as fout:\n",
    "    for line in fwild:\n",
    "        line = line.strip().split(',')\n",
    "        fire_code = line[0]\n",
    "        fire_lat, fire_lon = map(float, [line[-2], line[-1]])\n",
    "        \n",
    "        closest_station = ['None', 0., 0., sys.maxsize, 0.]\n",
    "        \n",
    "        \n",
    "        for key in us_latlon.keys():\n",
    "            s_lat, s_lon = map(float, key.split(','))\n",
    "            \n",
    "            dist = hs.distance((fire_lat, fire_lon), (s_lat, s_lon))\n",
    "            if dist <= closest_station[3]:\n",
    "                closest_station[0] = us_latlon[key]\n",
    "                closest_station[1] = s_lat\n",
    "                closest_station[2] = s_lon                \n",
    "                closest_station[3] = dist\n",
    "\n",
    "        \n",
    "        closest_station[4] = hs.bearing((fire_lat, fire_lon), closest_station[2])\n",
    "        out_rec = [fire_code, fire_lat, fire_lon] + closest_station\n",
    "        fout.write(','.join(map(str, out_rec))+'\\n')"
   ]
  },
  {
   "cell_type": "code",
   "execution_count": 44,
   "metadata": {},
   "outputs": [
    {
     "name": "stdout",
     "output_type": "stream",
     "text": [
      "829373,30.7047,-89.3525,USR0000MHCK,30.6153,-89.4133,7.15834253377,144.335122146\r\n",
      "1809170,38.6,-95.28,US1KSFR0013,38.6036,-95.2691,0.639144173568,139.377929358\r\n",
      "431856,34.94978909,-84.35280409,USC00095917,34.9528,-84.3214,1.79109584946,144.9363249\r\n",
      "710286,31.50096327,-89.10201294,USC00226626,31.4833,-89.0333,4.22948788372,144.174691615\r\n",
      "880502,31.2072,-84.1956,USC00091500,31.1903,-84.2036,1.2601239291,146.289264691\r\n",
      "1058606,35.25,-81.05,US1NCGS0009,35.249,-81.0335,0.933833718477,146.380419306\r\n",
      "532620,35.13398,-82.70145,US1NCTR0024,35.1442,-82.7316,1.8445960404,145.62582336\r\n",
      "675489,45.97181249,-91.35116212,USW00094973,46.0261,-91.4442,5.83349557081,136.995876083\r\n",
      "709012,30.83872356,-89.09707676,US1MSST0005,30.856,-89.1249,2.03745403541,144.389308128\r\n",
      "274347,45.97,-89.8877,USC00474320,45.95,-89.8833,1.39832841092,137.527232708\r\n"
     ]
    }
   ],
   "source": [
    "! head ./data/weather/fire_weather_station.csv"
   ]
  },
  {
   "cell_type": "code",
   "execution_count": 2,
   "metadata": {},
   "outputs": [
    {
     "name": "stdout",
     "output_type": "stream",
     "text": [
      "7.54238357394\n",
      "166.75532027\n"
     ]
    }
   ],
   "source": [
    "# Helper class for claculating distance between two lat, lon\n",
    "# https://www.movable-type.co.uk/scripts/latlong.html\n",
    "\n",
    "from math import *\n",
    "\n",
    "class Haversine:\n",
    "    def __init__(self, radius=3959.87433):\n",
    "        self.RADIUS = radius\n",
    "        \n",
    "    def distance(self, src, dest):\n",
    "        ''' Returns distance in miles\n",
    "        '''\n",
    "        lat1, lon1 = map(radians, src)\n",
    "        lat2, lon2 = map(radians, dest)\n",
    "        \n",
    "        dlat = lat2 - lat1\n",
    "        dlon = lon2 - lon1\n",
    "        \n",
    "        a = sin(dlat/2)**2 + cos(lat1)*cos(lat2)*sin(dlon/2)**2\n",
    "        c = 2 * asin(sqrt(a))\n",
    "        \n",
    "        return self.RADIUS * c\n",
    "    \n",
    "    def bearing(self, src, dest):\n",
    "        '''Returns compass degrees\n",
    "        '''\n",
    "        lat1, lon1 = map(radians, src)\n",
    "        lat2, lon2 = map(radians, dst)\n",
    "        dlat = lat2 - lat1\n",
    "        dlon = lon2 - lon1\n",
    "        \n",
    "        y = sin(dlon) * cos(lon2)\n",
    "        x = cos(lat1) * sin(lat2) - sin(lat1) * cos(lat2) * cos(dlon)\n",
    "        bearing = atan2(y, x)\n",
    "        bearing = degrees(bearing)\n",
    "        return (bearing + 360) % 360\n",
    "    \n",
    "    \n",
    "if __name__ == '__main__':\n",
    "    dst = (-94.5930, -39.1230)\n",
    "    src = (-94.4839, -39.1561)\n",
    "    h = Haversine()\n",
    "    print h.distance(src, dst)\n",
    "    print h.bearing(src, dst)"
   ]
  },
  {
   "cell_type": "code",
   "execution_count": 17,
   "metadata": {},
   "outputs": [
    {
     "name": "stdout",
     "output_type": "stream",
     "text": [
      "2556.79350884\n",
      "67.7541634922\n"
     ]
    }
   ],
   "source": [
    "dst = (34.0, -118.0)\n",
    "src = (34.0, -73.0)\n",
    "h = Haversine()\n",
    "print h.distance(src, dst)\n",
    "print h.bearing(src, dst)"
   ]
  },
  {
   "cell_type": "code",
   "execution_count": null,
   "metadata": {
    "collapsed": true
   },
   "outputs": [],
   "source": []
  }
 ],
 "metadata": {
  "kernelspec": {
   "display_name": "Python 2",
   "language": "python",
   "name": "python2"
  },
  "language_info": {
   "codemirror_mode": {
    "name": "ipython",
    "version": 2
   },
   "file_extension": ".py",
   "mimetype": "text/x-python",
   "name": "python",
   "nbconvert_exporter": "python",
   "pygments_lexer": "ipython2",
   "version": "2.7.13"
  }
 },
 "nbformat": 4,
 "nbformat_minor": 2
}
