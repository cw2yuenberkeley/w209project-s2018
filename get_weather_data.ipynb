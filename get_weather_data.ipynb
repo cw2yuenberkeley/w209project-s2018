{
 "cells": [
  {
   "cell_type": "code",
   "execution_count": 21,
   "metadata": {},
   "outputs": [],
   "source": [
    "# Download metadata to ./data/weather\n",
    "import os\n",
    "import urllib\n",
    "\n",
    "\n",
    "# URLs for metadata\n",
    "metadata_urls = {\n",
    "    'station_inventory': 'https://www1.ncdc.noaa.gov/pub/data/ghcn/daily/ghcnd-inventory.txt', \n",
    "    'states': 'https://www1.ncdc.noaa.gov/pub/data/ghcn/daily/ghcnd-states.txt', \n",
    "    'stations': 'https://www1.ncdc.noaa.gov/pub/data/ghcn/daily/ghcnd-stations.txt', \n",
    "    'countries': 'https://www1.ncdc.noaa.gov/pub/data/ghcn/daily/ghcnd-countries.txt'\n",
    "}\n",
    "\n",
    "# Output dir\n",
    "directory = './data/weather'\n",
    "if not os.path.exists(directory):\n",
    "    os.makedirs(directory)\n",
    "\n",
    "uo = urllib.URLopener()\n",
    "\n",
    "for k, u in metadata_urls.items():\n",
    "    uo.retrieve(u, './data/weather/'+k+'.txt')"
   ]
  },
  {
   "cell_type": "code",
   "execution_count": 51,
   "metadata": {},
   "outputs": [
    {
     "name": "stdout",
     "output_type": "stream",
     "text": [
      "downloading file number: 0...\n",
      "download complete\n",
      "filtering file number: 0...\n",
      "finished writing file number: 0...\n",
      "\n"
     ]
    }
   ],
   "source": [
    "# Download daily weather data summary by year\n",
    "import requests\n",
    "import gzip\n",
    "import io\n",
    "import csv\n",
    "\n",
    "# URL for yearly data \n",
    "yr_base_url = 'https://www1.ncdc.noaa.gov/pub/data/ghcn/daily/by_year/'\n",
    "yrs = range(1998, 2015+1)\n",
    "\n",
    "for yr in yrs:\n",
    "    yr_url = ''.join([yr_base_url, str(yr), '.csv.gz'])\n",
    "    \n",
    "    print 'downloading file for: %d...' % (yr)\n",
    "    resp = requests.get(yr_url, stream=True)\n",
    "    csv_gz = resp.content\n",
    "    f = io.BytesIO(csv_gz)\n",
    "    print 'download complete'\n",
    "    \n",
    "    with gzip.GzipFile(fileobj=f, mode='rb') as fh, gzip.open('./data/weather/'+str(yr)+'.csv.gz', 'wb+') as fout:\n",
    "        print 'filtering file...'\n",
    "        for line in fh:\n",
    "            if 'US' == line[:2]:\n",
    "                fout.write(line)\n",
    "        print 'finished writing file for: %d...\\n' % (yr)"
   ]
  },
  {
   "cell_type": "code",
   "execution_count": 125,
   "metadata": {},
   "outputs": [
    {
     "name": "stdout",
     "output_type": "stream",
     "text": [
      "7.54238357394\n",
      "166.75532027\n"
     ]
    }
   ],
   "source": [
    "# Helper class for claculating distance between two lat, lon\n",
    "# https://www.movable-type.co.uk/scripts/latlong.html\n",
    "\n",
    "from math import *\n",
    "\n",
    "class Haversine:\n",
    "    def __init__(self, radius=3959.87433):\n",
    "        self.RADIUS = radius\n",
    "        \n",
    "    def distance(self, src, dest):\n",
    "        ''' Returns distance in miles\n",
    "        '''\n",
    "        lat1, lon1 = map(radians, src)\n",
    "        lat2, lon2 = map(radians, dest)\n",
    "        \n",
    "        dlat = lat2 - lat1\n",
    "        dlon = lon2 - lon1\n",
    "        \n",
    "        a = sin(dlat/2)**2 + cos(lat1)*cos(lat2)*sin(dlon/2)**2\n",
    "        c = 2 * asin(sqrt(a))\n",
    "        \n",
    "        return self.RADIUS * c\n",
    "    \n",
    "    def bearing(self, src, dest):\n",
    "        '''Returns compass degrees\n",
    "        '''\n",
    "        lat1, lon1 = map(radians, src)\n",
    "        lat2, lon2 = map(radians, dst)\n",
    "        dlat = lat2 - lat1\n",
    "        dlon = lon2 - lon1\n",
    "        \n",
    "        y = sin(dlon) * cos(lon2)\n",
    "        x = cos(lat1) * sin(lat2) - sin(lat1) * cos(lat2) * cos(dlon)\n",
    "        bearing = atan2(y, x)\n",
    "        bearing = degrees(bearing)\n",
    "        return (bearing + 360) % 360\n",
    "    \n",
    "    \n",
    "if __name__ == '__main__':\n",
    "    dst = (-94.5930, -39.1230)\n",
    "    src = (-94.4839, -39.1561)\n",
    "    h = Haversine()\n",
    "    print h.distance(src, dst)\n",
    "    print h.bearing(src, dst)"
   ]
  },
  {
   "cell_type": "code",
   "execution_count": 126,
   "metadata": {},
   "outputs": [
    {
     "name": "stdout",
     "output_type": "stream",
     "text": [
      "4090.86961415\n",
      "67.7541634922\n"
     ]
    }
   ],
   "source": [
    "dst = (34.0, -118.0)\n",
    "src = (34.0, -73.0)\n",
    "h = Haversine()\n",
    "print h.distance(src, dst) * 1.6\n",
    "print h.bearing(src, dst)"
   ]
  }
 ],
 "metadata": {
  "kernelspec": {
   "display_name": "Python 2",
   "language": "python",
   "name": "python2"
  },
  "language_info": {
   "codemirror_mode": {
    "name": "ipython",
    "version": 2
   },
   "file_extension": ".py",
   "mimetype": "text/x-python",
   "name": "python",
   "nbconvert_exporter": "python",
   "pygments_lexer": "ipython2",
   "version": "2.7.13"
  }
 },
 "nbformat": 4,
 "nbformat_minor": 2
}
